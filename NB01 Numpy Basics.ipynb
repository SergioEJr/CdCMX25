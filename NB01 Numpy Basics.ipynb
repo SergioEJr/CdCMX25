{
 "cells": [
  {
   "cell_type": "markdown",
   "id": "fa6bbf47",
   "metadata": {},
   "source": [
    "# MTY4-NB01: Introduction to Scientific Computing\n",
    "by Sergio Eraso"
   ]
  },
  {
   "cell_type": "markdown",
   "id": "1c201bcd",
   "metadata": {},
   "source": [
    "## Introduction\n",
    "\n",
    "In this club we assume you are familiar with Python and basic programming. Here are some of the things you should know how to do:\n",
    "- Installing and importing packages\n",
    "- Writing functions\n",
    "- Loops (eg. for, while)\n",
    "- Control flow (eg. if, else)\n",
    "\n",
    "If you feel shaky on any of these, please review them in MTY4-NB00 Python Basics Review.\n",
    "\n",
    "With Python basics out of the way, we move onto some of the basics of the two very popular packages `numpy` and `matplotlib`. Numpy is a foundational package for scientific computing. It implements multidimensional arrays (matrices) and efficient functions to carry out operations on them. Matplotlib is a data visualization package. It lets us create figures and animations to actually see our calculations and simulations. Whenever you are learning something new in programming, you should always have the documentation on hand:\n",
    "\n",
    "- [Numpy quickstart](https://numpy.org/doc/stable/user/quickstart.html)\n",
    "- [Matplotlib quickstart](https://matplotlib.org/stable/users/explain/quick_start.html)\n",
    "\n",
    "Let's start by importing our packages. Throughout this notebook, please play around with the functions to get a feel for them. This is meant to be your own coding playground!"
   ]
  },
  {
   "cell_type": "code",
   "execution_count": 1,
   "id": "1d693e74",
   "metadata": {},
   "outputs": [],
   "source": [
    "import numpy as np\n",
    "import matplotlib.pyplot as plt"
   ]
  },
  {
   "cell_type": "markdown",
   "id": "3154fe2a",
   "metadata": {},
   "source": [
    "# Why Numpy?\n",
    "\n",
    "Python lists are flexible, but are not optimized for numerical work: operations are slow and have a lot of overhead. The Numpy package provides a specialized `ndarray` type that has the two key features:\n",
    "- **Homogeneous**: all elements share the same type (e.g. `float64`), allowing for contiguous memory.\n",
    "- **Vectorized operations**: arithmetic and other mathematical operations are applied to entire arrays in optimized C loops\n",
    "\n",
    "#### *Exercise 1: Timing Python vs NumPy*\n",
    "\n",
    "1. Create a list of 1 million floats: `lst = [float(i) for i in range(10**6)]`.\n",
    "2. Create the equivalent NumPy array: `arr = np.arange(10**6, dtype=float)`.\n",
    "3. Add 5 to each element using a Python loop and a Numpy vectorized operation and compare the computation runtimes.\n",
    "\n",
    "Which is faster and by how much? \n",
    "\n",
    "*(Hint: use the `%timeit` magic in Jupyter: `%timeit [x+5 for x in lst]` vs `%timeit arr + 5`.)*"
   ]
  },
  {
   "cell_type": "markdown",
   "id": "023001d7",
   "metadata": {},
   "source": [
    "## Creating and Inspecting Arrays\n",
    "\n",
    "Numpy offers a variety of constructors to create arrays"
   ]
  },
  {
   "cell_type": "code",
   "execution_count": null,
   "id": "6301a695",
   "metadata": {},
   "outputs": [],
   "source": [
    "a = np.asarray([2,4,6,8,10])        # create an array from a Python list\n",
    "a_zeros = np.zeros((3,5))           # array of zeros with 3 rows and 5 columns\n",
    "a_ones = np.ones((2,3))             # array of ones with 2 rows and 3 columns\n",
    "a_range = np.arange(0, 1, 0.2)      # start, stop, step\n",
    "a_lin = np.linspace(0, 1, 20)       # start, stop, number of elements"
   ]
  },
  {
   "cell_type": "markdown",
   "id": "e83f3249",
   "metadata": {},
   "source": []
  },
  {
   "cell_type": "code",
   "execution_count": null,
   "id": "ff989b90",
   "metadata": {},
   "outputs": [],
   "source": []
  }
 ],
 "metadata": {
  "kernelspec": {
   "display_name": "pych1",
   "language": "python",
   "name": "python3"
  },
  "language_info": {
   "codemirror_mode": {
    "name": "ipython",
    "version": 3
   },
   "file_extension": ".py",
   "mimetype": "text/x-python",
   "name": "python",
   "nbconvert_exporter": "python",
   "pygments_lexer": "ipython3",
   "version": "3.8.11"
  }
 },
 "nbformat": 4,
 "nbformat_minor": 5
}
