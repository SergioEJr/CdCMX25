{
 "cells": [
  {
   "cell_type": "markdown",
   "id": "657ce6ca",
   "metadata": {},
   "source": [
    "# MTY4-NB00: Python Basics\n",
    "by Sergio Eraso"
   ]
  },
  {
   "cell_type": "markdown",
   "id": "5b33ad93",
   "metadata": {},
   "source": [
    "## Introduction\n",
    "\n",
    "In this club we assume you are familiar with Python and basic programming. If you want to review some of the syntax and concepts in python, this notebook will **very** briefly cover the following table of contents:\n",
    "1. Installing Python and Installing packages\n",
    "2. Importing and using packages\n",
    "3. Writing functions\n",
    "4. Loops (eg. `for`, `while`)\n",
    "5. Control flow (eg. `if`, `else`)\n",
    "6. More Challenging Problems\n",
    "\n",
    "This notebook is **not** meant to teach you Python or programming essentials from scratch. If you want a more thorough review, please refer to the [official Python Tutorial](https://docs.python.org/3/tutorial/index.html). Artificial intelligence LLMs such as [ChatGPT](https://chatgpt.com) are also a good resource for reviewing syntax and debugging (sometimes). Feel free to use them."
   ]
  },
  {
   "cell_type": "markdown",
   "id": "c1242b13",
   "metadata": {},
   "source": [
    "## 1. Installing Python and Packages\n",
    "There are multiple ways to get Python running on your machine. Here we highlight two methods:\n",
    "\n",
    "### Option 1: Quick Start via Google Colab\n",
    "By far, the quickest way to get started without having to worry about the technicalities of installing python and packages is [Google Colab](https://colab.research.google.com/). This runs Python on Google's servers and comes with all the packages we will need pre-installed. We highly recommend this if you want to get started as soon as possible. One advantage of this approach is that you will also have access to your notebooks from all of your devices, similar to Google Drive.\n",
    "\n",
    "### Option 2: Local Installation via Anaconda\n",
    "To install Python locally -- this means that code will run directly on your machine -- we recommend downloading the [Anaconda distribution](https://www.anaconda.com/download/success). This comes with python and a graphical user interface (GUI) called Anaconda Navigator that simplifies managing your packages and virtual environments. The [documentation](https://www.anaconda.com/docs/tools/working-with-conda/packages/install-packages) is your friend and contains all information on how to install packages using the terminal or Anaconda Navigator. There are many benefits to this approach and if you want to continue using Python beyond this club we highly recommend you eventually obtain a local installation of Python. You should also familiarize yourself with virtual environments as a way to organize your different projects (but this is not necessary for this course)."
   ]
  },
  {
   "cell_type": "markdown",
   "id": "291b0393",
   "metadata": {},
   "source": [
    "## 2. Importing and Using Packages\n",
    "\n",
    "A package is a collection of objects and functions work to accomplish some goal. For example, The `numpy` package is used to manipulate arrays (vectors and matrices) in a convenient and efficient manner. The `matplotlib` package is used to create figures and plots for data visualization. The `pandas` package is used to analyze data and compute statistics. There are thousands of packages available for Python, making it one of the most versatile and modular programming languages available.\n",
    "\n",
    "Try running the cell below to import the Python package `numpy` under the alias `np`."
   ]
  },
  {
   "cell_type": "code",
   "execution_count": null,
   "id": "babc003f",
   "metadata": {},
   "outputs": [],
   "source": [
    "import numpy as np"
   ]
  },
  {
   "cell_type": "markdown",
   "id": "a52bf0fa",
   "metadata": {},
   "source": [
    "We can now access objects and functions from the `numpy` package. Any function we use from numpy must be preceded by the alias `np`. For example, let's use the `np.asarray` function to create a numpy array. We can use the `type` function to ensure that we have created a numpy array."
   ]
  },
  {
   "cell_type": "code",
   "execution_count": null,
   "id": "e936c6d2",
   "metadata": {},
   "outputs": [],
   "source": [
    "l1 = [41, 59, 23, 5, 19, 78]       # create a python list\n",
    "a1 = np.asarray(l1)       # store the list in a numpy array\n",
    "print(f\"The type of my_list is: {type(l1)}\")   # check the types of l1 and a1 using an f-string\n",
    "print(f\"The type of a1 is: {type(a1)}\")"
   ]
  },
  {
   "cell_type": "markdown",
   "id": "f92ee8a7",
   "metadata": {},
   "source": [
    "If we only need a couple of functions from a package, we can import them using the following syntax"
   ]
  },
  {
   "cell_type": "code",
   "execution_count": null,
   "id": "600dadd6",
   "metadata": {},
   "outputs": [],
   "source": [
    "from numpy import mean, std"
   ]
  },
  {
   "cell_type": "markdown",
   "id": "9e027100",
   "metadata": {},
   "source": [
    "We can now use these functions to calculate the mean and standard deviation of `a1`. Note that we no longer need to precede the function call with `np`"
   ]
  },
  {
   "cell_type": "code",
   "execution_count": null,
   "id": "ccf1377f",
   "metadata": {},
   "outputs": [],
   "source": [
    "mean_value = mean(a1)        # calculate the mean of a1\n",
    "std_value = std(a1)\n",
    "print(f\"The mean of a1 is: {mean_value}\")     # print the mean using an f-string\n",
    "print(f\"The standard deviation of a1 is: {std_value}\")     # print the standard deviation using an f-string"
   ]
  },
  {
   "cell_type": "markdown",
   "id": "7f2e5bc3",
   "metadata": {},
   "source": [
    "#### *Exercise 1*\n",
    "From `numpy` import the function `sum` and use it to calculate the sum of all the elements of `a1`. Print the result using an f-string."
   ]
  },
  {
   "cell_type": "code",
   "execution_count": null,
   "id": "6fa7acd1",
   "metadata": {},
   "outputs": [],
   "source": [
    "# ---------Exercise 1-----------\n",
    "\n",
    "# your code here"
   ]
  },
  {
   "cell_type": "markdown",
   "id": "07ae366f",
   "metadata": {},
   "source": [
    "## 3. Writing Functions\n",
    "\n",
    "Python and its packages come with some very useful functions as we've seen above. However, we often want to write our own functions. The syntax to write your own function is the following:\n",
    "\n",
    "`def function_name(parameter1, parameter2, keyword1 = default_value1, keyword2 = default_value2)`\n",
    "\n",
    "Here is a simple example of a function with one required argument (`name`) and two optional argument (`greeting` and `punctuation`). Notice that keyword arguments can be passed onto a function in any order."
   ]
  },
  {
   "cell_type": "code",
   "execution_count": null,
   "id": "f2ad2e39",
   "metadata": {},
   "outputs": [],
   "source": [
    "def greet(name, greeting=\"Hello\", punctuation=\"!\"):\n",
    "    \"\"\"\n",
    "    Say hi to someone.\n",
    "\n",
    "    Parameters:\n",
    "      name (str): the person to greet (required)\n",
    "      greeting (str): the word to use (default \"Hello\")\n",
    "      punctuation (str): punctuation to end with (default \"!\")\n",
    "    \"\"\"\n",
    "    return f\"{greeting}, {name}{punctuation}\"\n",
    "\n",
    "print(greet(\"Jackie\"))   \n",
    "print(greet(\"Mati\", greeting=\"Good morning\")) \n",
    "print(greet(\"Gabi\", punctuation=\"!!!\", greeting=\"Hey\"))   "
   ]
  },
  {
   "cell_type": "markdown",
   "id": "187cb47a",
   "metadata": {},
   "source": [
    "#### *Exercise 2*\n",
    "\n",
    "Write a function called `sum_of_powers` that takes on two required arguments `x` and `y` and one optional argument `p` with default value `2`. The function should return the sum of the `p`th powers of `x` and `y`. For example, a call of `sum_of_powers(2,1,p=3)` should return 9."
   ]
  },
  {
   "cell_type": "code",
   "execution_count": null,
   "id": "ffd89518",
   "metadata": {},
   "outputs": [],
   "source": [
    "# ---------Exercise 2-----------\n",
    "\n",
    "# your code here"
   ]
  },
  {
   "cell_type": "markdown",
   "id": "44a353e6",
   "metadata": {},
   "source": [
    "## 4. Loops\n",
    "\n",
    "Python makes writing loops incredibly easy and convenient. The two types of loops are `for` and `while` loops."
   ]
  },
  {
   "cell_type": "markdown",
   "id": "b3a127d5",
   "metadata": {},
   "source": [
    "### `for` Loops\n",
    "For loops are useful when you know exactly how many times a loop should be executed. For example, we can loop over an indexing variable `i` or `j` a fixed number of times and do something with it (e.g. print it out) as in the following examples"
   ]
  },
  {
   "cell_type": "code",
   "execution_count": null,
   "id": "f44ea816",
   "metadata": {},
   "outputs": [],
   "source": [
    "for i in range(8):\n",
    "    print(f\"i = {i}\")\n",
    "print(\"...first for loop finished\")\n",
    "\n",
    "for j in range(2, 6):\n",
    "    print(f\"The square of {j} is {j**2}\")\n",
    "print(\"...second for loop finished\")"
   ]
  },
  {
   "cell_type": "markdown",
   "id": "71bd3c97",
   "metadata": {},
   "source": [
    "We can also loop over more general \"iterables\", such as our array `a1`"
   ]
  },
  {
   "cell_type": "code",
   "execution_count": null,
   "id": "fec5c6da",
   "metadata": {},
   "outputs": [],
   "source": [
    "for elem in a1:\n",
    "    print(elem)"
   ]
  },
  {
   "cell_type": "markdown",
   "id": "f3b7e3e3",
   "metadata": {},
   "source": [
    "Sometimes it's useful to keep track of both an indexing variable `i` and the current element of an iterable. In these cases, we use the `enumerate` function on the iterable `a1` as below. As a reminder, Python starts the indexing of sequences at zero."
   ]
  },
  {
   "cell_type": "code",
   "execution_count": null,
   "id": "25a62847",
   "metadata": {},
   "outputs": [],
   "source": [
    "for i, elem in enumerate(a1):\n",
    "    print(f\"a[{i}] = {elem}\")"
   ]
  },
  {
   "cell_type": "markdown",
   "id": "d50a41bb",
   "metadata": {},
   "source": [
    "#### *Exercise 3*\n",
    "Write a function called `sum_array` that uses a `for` loop to calculate the sum of all of the elements of an array `a`. Does your function return the correct result for the array `a1` we defined earlier?"
   ]
  },
  {
   "cell_type": "code",
   "execution_count": null,
   "id": "8f8491b3",
   "metadata": {},
   "outputs": [],
   "source": [
    "# ---------Exercise 3-----------\n",
    "\n",
    "# your code here"
   ]
  },
  {
   "cell_type": "markdown",
   "id": "5fc108c0",
   "metadata": {},
   "source": [
    "Python also allows you to use for loops to create sequences quickly. This is called \"comprehension\". Here are a couple examples"
   ]
  },
  {
   "cell_type": "code",
   "execution_count": null,
   "id": "e6714bf9",
   "metadata": {},
   "outputs": [],
   "source": [
    "l2 = [i**2 for i in range(10)]      # list comprehension\n",
    "d1 = {i : elem for i, elem in enumerate(a1)}        # dictionary (hashtable) comprehension\n",
    "print(l2)\n",
    "print(d1)"
   ]
  },
  {
   "cell_type": "markdown",
   "id": "4725ac86",
   "metadata": {},
   "source": [
    "#### *Exercise 4*\n",
    "Using list comprehension, create a python list whose elements are the cubic powers of the integers ranging from 2 to 10 with a step size of 2 (look up the `range` documentation). Then, write a `for` loop to print out each element in this list."
   ]
  },
  {
   "cell_type": "code",
   "execution_count": null,
   "id": "7b227753",
   "metadata": {},
   "outputs": [],
   "source": [
    "# ---------Exercise 4-----------\n",
    "\n",
    "# your code here"
   ]
  },
  {
   "cell_type": "markdown",
   "id": "dc67f486",
   "metadata": {},
   "source": [
    "### `while` Loops\n",
    "\n",
    "While loops are useful when you may not know how many times a loop should occur, but you do know a logical condition (e.g. `x < 10`) that should be satisfied for the loop to continue. For example, we can initialize a variable `x` and run the loop until `x` passes some limit."
   ]
  },
  {
   "cell_type": "code",
   "execution_count": null,
   "id": "c31d1cbc",
   "metadata": {},
   "outputs": [],
   "source": [
    "x = 0\n",
    "while x < 10:\n",
    "    print(x)\n",
    "    x = x + 2\n",
    "print(\"...end of while loop\")"
   ]
  },
  {
   "cell_type": "markdown",
   "id": "600f65d3",
   "metadata": {},
   "source": [
    "One has to be careful with while loops as they can easily lead to infinite loops that never end. You will need to interrupt the following cell by pressing the stop button, otherwise it would never stop running."
   ]
  },
  {
   "cell_type": "code",
   "execution_count": null,
   "id": "ed06b4a1",
   "metadata": {},
   "outputs": [],
   "source": [
    "y = 0\n",
    "print(\"...this is an infinite loop!\")\n",
    "while y < 10:\n",
    "    y = y - 1\n",
    "print(\"...this will never be printed!\")"
   ]
  },
  {
   "cell_type": "markdown",
   "id": "c37542c0",
   "metadata": {},
   "source": [
    "## 5. Control Flow\n",
    "\n",
    "Control flow is how Python decides which lines of code to execute and when. The primary tools are `if`, `elif`, and `else` for branching to different blocks of code. Here is a simple example"
   ]
  },
  {
   "cell_type": "code",
   "execution_count": null,
   "id": "6e513958",
   "metadata": {},
   "outputs": [],
   "source": [
    "def categorize_temperature(temp):\n",
    "    if temp <= 0:\n",
    "        return \"freezing\"\n",
    "    elif temp <= 15:\n",
    "        return \"cold\"\n",
    "    elif temp <= 25:\n",
    "        return \"mild\"\n",
    "    else:\n",
    "        return \"hot\"\n",
    "print(categorize_temperature(12))\n",
    "print(categorize_temperature(-6))\n",
    "print(categorize_temperature(25))\n",
    "print(categorize_temperature(32))"
   ]
  },
  {
   "cell_type": "markdown",
   "id": "7ad717c1",
   "metadata": {},
   "source": [
    "#### *Exercise 5*\n",
    "\n",
    "Write a function that takes in an array of integers `a` and returns the sum of all of its even elements. If there are no even elements, return zero. *Hint: look into the modulo operator `%`*."
   ]
  },
  {
   "cell_type": "code",
   "execution_count": null,
   "id": "d1fb78a8",
   "metadata": {},
   "outputs": [],
   "source": [
    "# ---------Exercise 5-----------\n",
    "\n",
    "# your code here"
   ]
  },
  {
   "cell_type": "markdown",
   "id": "9fc44de6",
   "metadata": {},
   "source": [
    "## 6. More Challenging Problems\n",
    "\n",
    "Here are some extra problems to get you warmed up. They get progressively more challenging.\n",
    "\n",
    "#### *Challenge 1*\n",
    "\n",
    "Using a `while` loop, write a function that calculates the factorial of a given integer. $$ n! = n\\cdot (n-1) \\cdot (n-2) \\cdots 2 \\cdot 1$$ Recall that $0! = 1$.\n",
    "\n",
    "#### *Challenge 2*\n",
    "\n",
    "Each term in the Fibonacci sequence is generated by adding the previous two terms $a_{n} = a_{n-1} + a_{n-2}$. By starting with $a_0 = 1$ and $a_1 = 2$, the first couple of terms will be: $$1,2,3,5,8,13,21,34,55,89, \\dots$$ Considering the terms in the Fibonacci sequence whose values are not greater than four million, find the sum of all the even-valued terms. The answer should be 4613732.\n",
    "\n",
    "#### *Challenge 3*\n",
    "\n",
    "The Collatz sequence $\\{a_n\\}$ for a positive integer $n$ is defined by the following rules\n",
    "- $a_0 = n$\n",
    "- if $a_n$ is even, then $a_{n+1} = a_n/2$\n",
    "- if $a_n$ is odd, then $a_{n + 1} = 3a_n + 1$\n",
    "- if $a_n = 1$, then the sequence terminates\n",
    "\n",
    "Write a function `collatz_sequence` that returns the full Collatz sequence of a given integer $n$ as a Python list. For example, `collatz_sequence(6) → [6, 3, 10, 5, 16, 8, 4, 2, 1]`.\n",
    "\n",
    "#### *Challenge 4*\n",
    "\n",
    "An Armstrong number (also called a narcissistic number) is an integer that equals the sum of its own digits each raised to the power of the number of digits. For example,\n",
    "- $153 = 1^3 + 5^3 + 3^3$\n",
    "- $9474 = 9^4 + 4^4 + 7^4 + 4^4$\n",
    "\n",
    "Write a function `is_armstrong` that returns `True` if $n$ is an Armstrong number and `False` otherwise. Then, write a function `armstrong_range` that returns a list of all Armstrong numbers between `start` and `end` inclusive."
   ]
  }
 ],
 "metadata": {
  "kernelspec": {
   "display_name": "pych1",
   "language": "python",
   "name": "python3"
  },
  "language_info": {
   "codemirror_mode": {
    "name": "ipython",
    "version": 3
   },
   "file_extension": ".py",
   "mimetype": "text/x-python",
   "name": "python",
   "nbconvert_exporter": "python",
   "pygments_lexer": "ipython3",
   "version": "3.8.11"
  }
 },
 "nbformat": 4,
 "nbformat_minor": 5
}
